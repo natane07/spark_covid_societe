{
 "cells": [
  {
   "cell_type": "markdown",
   "metadata": {},
   "source": [
    "# Projet Spark - Covid VS Societé 2020"
   ]
  },
  {
   "cell_type": "markdown",
   "metadata": {},
   "source": [
    "## Problematique\n",
    "### Quelle est l'impacte du covid sur les société en France sur l'année 2020 ?\n"
   ]
  },
  {
   "cell_type": "code",
   "execution_count": 1,
   "metadata": {},
   "outputs": [],
   "source": [
    "import pyspark\n",
    "from pyspark.sql import SparkSession\n",
    "from pyspark.sql import *\n",
    "import pyspark.sql.functions as f"
   ]
  },
  {
   "cell_type": "markdown",
   "metadata": {},
   "source": [
    "**Création de la session spark**"
   ]
  },
  {
   "cell_type": "code",
   "execution_count": 2,
   "metadata": {},
   "outputs": [],
   "source": [
    "spark = SparkSession.builder.appName(\"covid_societe\").getOrCreate()"
   ]
  },
  {
   "cell_type": "markdown",
   "metadata": {},
   "source": [
    "**Lecture du fichier des données covid-19**"
   ]
  },
  {
   "cell_type": "code",
   "execution_count": 3,
   "metadata": {},
   "outputs": [
    {
     "name": "stdout",
     "output_type": "stream",
     "text": [
      "+-------+-------------+------------------------------------------------------------------+\n",
      "|Colonne|Type         |Description_FR                                                    |\n",
      "+-------+-------------+------------------------------------------------------------------+\n",
      "|dep    |integer      |Departement                                                       |\n",
      "|sexe   |integer      |Sexe                                                              |\n",
      "|jour   |string($date)|Date de notification                                              |\n",
      "|hosp   |integer      |Nombre de personnes actuellement hospitalisées                    |\n",
      "|rea    |integer      |Nombre de personnes actuellement en réanimation ou soins intensifs|\n",
      "|rad    |integer      |Nombre cumulé de personnes retournées à domicile                  |\n",
      "|dc     |integer      |Nombre cumulé de personnes décédées à l'hôpital                   |\n",
      "+-------+-------------+------------------------------------------------------------------+\n",
      "\n",
      "+---+----+----------+----+---+---+---+\n",
      "|dep|sexe|      jour|hosp|rea|rad| dc|\n",
      "+---+----+----------+----+---+---+---+\n",
      "| 01|   0|2020-03-18|   2|  0|  1|  0|\n",
      "| 01|   1|2020-03-18|   1|  0|  1|  0|\n",
      "| 01|   2|2020-03-18|   1|  0|  0|  0|\n",
      "| 02|   0|2020-03-18|  41| 10| 18| 11|\n",
      "| 02|   1|2020-03-18|  19|  4| 11|  6|\n",
      "| 02|   2|2020-03-18|  22|  6|  7|  5|\n",
      "| 03|   0|2020-03-18|   4|  0|  1|  0|\n",
      "| 03|   1|2020-03-18|   1|  0|  0|  0|\n",
      "| 03|   2|2020-03-18|   3|  0|  1|  0|\n",
      "| 04|   0|2020-03-18|   3|  1|  2|  0|\n",
      "| 04|   1|2020-03-18|   3|  1|  0|  0|\n",
      "| 04|   2|2020-03-18|   0|  0|  2|  0|\n",
      "| 05|   0|2020-03-18|   8|  1|  9|  0|\n",
      "| 05|   1|2020-03-18|   1|  0|  7|  0|\n",
      "| 05|   2|2020-03-18|   7|  1|  2|  0|\n",
      "| 06|   0|2020-03-18|  25|  1| 47|  2|\n",
      "| 06|   1|2020-03-18|  15|  1| 19|  0|\n",
      "| 06|   2|2020-03-18|  10|  0| 28|  2|\n",
      "| 07|   0|2020-03-18|  12|  1|  0|  0|\n",
      "| 07|   1|2020-03-18|   7|  1|  0|  0|\n",
      "+---+----+----------+----+---+---+---+\n",
      "only showing top 20 rows\n",
      "\n",
      "+---+----+----------+----+---+----+---+\n",
      "|dep|sexe|      jour|hosp|rea| rad| dc|\n",
      "+---+----+----------+----+---+----+---+\n",
      "| 01|   0|2020-12-13| 329| 27|1344|340|\n",
      "+---+----+----------+----+---+----+---+\n",
      "only showing top 1 row\n",
      "\n"
     ]
    }
   ],
   "source": [
    "path_file_data = \"../data/donnees_covid_societes/\"\n",
    "\n",
    "df_covid_par_dep_et_sexe_patient = spark.read.csv(\n",
    "    path_file_data + \"covid/covid_par_dep_et_sexe_du_patient/donnees-hospitalieres-covid19-2020-12-13-19h03.csv\",\n",
    "    header=True,\n",
    "    sep=\";\"\n",
    ")\n",
    "df_metadonne_covid_par_dep_et_sexe_patient = spark.read.csv(\n",
    "    path_file_data + \"covid/covid_par_dep_et_sexe_du_patient/metadonnees-donnees-hospitalieres-covid19.csv\",\n",
    "    header=True,\n",
    "    sep=\";\"\n",
    ")\n",
    "\n",
    "# Affichage des metadonnés\n",
    "df_metadonne_covid_par_dep_et_sexe_patient.select(\n",
    "    \"Colonne\",\n",
    "    \"Type \",\n",
    "    \"Description_FR\"\n",
    ").show(20, False)\n",
    "# Affichage des données\n",
    "df_covid_par_dep_et_sexe_patient.show(20)\n",
    "\n",
    "# La plus grande date\n",
    "df_covid_par_dep_et_sexe_patient.orderBy('jour', ascending=False).show(1)"
   ]
  },
  {
   "cell_type": "markdown",
   "metadata": {},
   "source": [
    "**On supprime le sexe du df et on regroupe par dep et jour**"
   ]
  },
  {
   "cell_type": "code",
   "execution_count": 4,
   "metadata": {
    "scrolled": true
   },
   "outputs": [
    {
     "name": "stdout",
     "output_type": "stream",
     "text": [
      "+---+----------+----+---+---+---+\n",
      "|dep|      jour|hosp|rea|rad| dc|\n",
      "+---+----------+----+---+---+---+\n",
      "| 01|2020-03-18|   4|  0|  2|  0|\n",
      "| 02|2020-03-18|  82| 20| 36| 22|\n",
      "| 03|2020-03-18|   8|  0|  2|  0|\n",
      "| 04|2020-03-18|   6|  2|  4|  0|\n",
      "| 05|2020-03-18|  16|  2| 18|  0|\n",
      "| 06|2020-03-18|  50|  2| 94|  4|\n",
      "| 07|2020-03-18|  22|  2|  0|  0|\n",
      "| 08|2020-03-18|   0|  0|  2|  0|\n",
      "| 09|2020-03-18|   2|  2|  4|  0|\n",
      "| 10|2020-03-18|  10|  0|  0|  0|\n",
      "| 11|2020-03-18|  16| 14| 18|  6|\n",
      "| 12|2020-03-18|  14|  4|  2|  0|\n",
      "| 13|2020-03-18| 196| 22|117|  8|\n",
      "| 14|2020-03-18|   8|  2|  0|  0|\n",
      "| 15|2020-03-18|   4|  2|  0|  0|\n",
      "| 16|2020-03-18|   2|  0|  0|  0|\n",
      "| 17|2020-03-18|  10|  4|  4|  0|\n",
      "| 18|2020-03-18|   0|  0|  0|  0|\n",
      "| 19|2020-03-18|   0|  0|  0|  0|\n",
      "| 21|2020-03-18| 120| 32|  8|  0|\n",
      "+---+----------+----+---+---+---+\n",
      "only showing top 20 rows\n",
      "\n"
     ]
    }
   ],
   "source": [
    "from pyspark.sql.types import IntegerType\n",
    "#On regroupe les données par departements et par jour\n",
    "df_covid_dep_patient = df_covid_par_dep_et_sexe_patient.groupBy(\n",
    "        \"dep\",\n",
    "        \"jour\"\n",
    "    ).agg( \n",
    "        # On fait la somme de chaque colonne puis on cast le resultat en INTEGER et on le renomme\n",
    "        f.sum(\"hosp\").cast(IntegerType()).alias('hosp'), \n",
    "        f.sum(\"rea\").cast(IntegerType()).alias('rea'),\n",
    "        f.sum(\"rad\").cast(IntegerType()).alias('rad'),\n",
    "        f.sum(\"dc\").cast(IntegerType()).alias('dc')\n",
    "    )\n",
    "\n",
    "df_covid_dep_patient = df_covid_dep_patient.orderBy([\"jour\",\"dep\"], ascending=True)\n",
    "\n",
    "df_covid_dep_patient.show()"
   ]
  },
  {
   "cell_type": "markdown",
   "metadata": {},
   "source": [
    "### Quelle departement a eu le plus d'hospitalisation, de réanimation et de déces ? (ecrire dans un csv dans /resultat)"
   ]
  },
  {
   "cell_type": "code",
   "execution_count": 5,
   "metadata": {},
   "outputs": [
    {
     "name": "stdout",
     "output_type": "stream",
     "text": [
      "+---+------+-----+-------+------+\n",
      "|dep|  hosp|  rea|    rad|    dc|\n",
      "+---+------+-----+-------+------+\n",
      "| 01| 66400| 5459| 262394| 63392|\n",
      "| 02| 72338| 8637| 547503|143384|\n",
      "| 03| 31927| 3764| 136395| 31031|\n",
      "| 04| 16061| 1240|  84311|  9768|\n",
      "| 05| 24904| 3088|  88481| 14146|\n",
      "| 06| 92538|13738| 489842|109182|\n",
      "| 07| 36817| 3964| 235889| 62359|\n",
      "| 08| 22346| 3103| 111299| 33068|\n",
      "| 09|  6017| 1227|  22829|  2296|\n",
      "| 10| 40407| 3493| 316600| 70447|\n",
      "| 11| 16175| 2281| 129024| 33274|\n",
      "| 12| 17870| 1584|  88938| 17852|\n",
      "| 13|368942|63418|2246573|345858|\n",
      "| 14| 47116| 7988| 196643| 48947|\n",
      "| 15| 12643| 2032|  35388|  6900|\n",
      "| 16|  6111| 1121|  36016|  7938|\n",
      "| 17| 20872| 3781|  87128| 28192|\n",
      "| 18| 30692| 1984| 107314| 48841|\n",
      "| 19| 14738| 1986|  84227| 21255|\n",
      "| 21| 67218|12652| 497990|132616|\n",
      "+---+------+-----+-------+------+\n",
      "only showing top 20 rows\n",
      "\n",
      "+---------+\n",
      "|max(hosp)|\n",
      "+---------+\n",
      "|   547599|\n",
      "+---------+\n",
      "\n"
     ]
    }
   ],
   "source": [
    "df_covid_sum_par_dep = df_covid_dep_patient.groupBy(\n",
    "    \"dep\"\n",
    ").agg( \n",
    "    # On fait la somme de chaque colonne puis on cast le resultat en INTEGER et on le renomme\n",
    "    f.sum(\"hosp\").cast(IntegerType()).alias('hosp'), \n",
    "    f.sum(\"rea\").cast(IntegerType()).alias('rea'),\n",
    "    f.sum(\"rad\").cast(IntegerType()).alias('rad'),\n",
    "    f.sum(\"dc\").cast(IntegerType()).alias('dc')\n",
    ").orderBy(\"dep\")\n",
    "\n",
    "df_covid_sum_par_dep.show()\n",
    "\n",
    "df_covid_max_hospi_par_dep = df_covid_sum_par_dep.groupBy().max(\"hosp\")\n",
    "df_covid_max_hospi_par_dep.show()"
   ]
  },
  {
   "cell_type": "markdown",
   "metadata": {},
   "source": [
    "### Combien d'homme, femme ou autre, on etait hospitalié par le covid (par departement) ? (ecrire dans un csv dans /resultat) (Louis)\n",
    "DF1: dep | sexe | sum(hospi)\n",
    "\n",
    "      01 | 0    | 120 000\n",
    "      \n",
    "      01 | 1    | 120 000\n",
    "      \n",
    "      01 | 2    | 160 000\n",
    "      \n",
    "      02 | 0    | 160 000"
   ]
  },
  {
   "cell_type": "markdown",
   "metadata": {},
   "source": [
    "### Quelle jour a été le plus critique en hospitalisation, reanimation et deces (par departement) (ecrire dans un csv dans /resultat)\n",
    "DF1: dep | jour | max(hospi)\n",
    "\n",
    "DF2: dep | jour | max(rea)\n",
    "\n",
    "DF3: dep | jour | max(deces)"
   ]
  },
  {
   "cell_type": "markdown",
   "metadata": {},
   "source": [
    "### Quelle est l'impacte du covid sur les société en France sur l'année 2020 ?\n",
    "\n",
    "DF societe : dep | date radiation | nb_de_societe_radié\n",
    "\n",
    "DF covid : dep   | jour           | hosp | rea | rad | dc\n",
    "\n",
    "Df covid_societe : dep | date | nb_de_societe_radié | hosp | rea | rad | dc"
   ]
  }
 ],
 "metadata": {
  "kernelspec": {
   "display_name": "Python 3",
   "language": "python",
   "name": "python3"
  },
  "language_info": {
   "codemirror_mode": {
    "name": "ipython",
    "version": 3
   },
   "file_extension": ".py",
   "mimetype": "text/x-python",
   "name": "python",
   "nbconvert_exporter": "python",
   "pygments_lexer": "ipython3",
   "version": "3.7.7"
  }
 },
 "nbformat": 4,
 "nbformat_minor": 4
}
