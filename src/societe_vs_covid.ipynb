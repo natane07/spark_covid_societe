{
 "cells": [
  {
   "cell_type": "markdown",
   "metadata": {},
   "source": [
    "# Projet Spark - Covid VS Societé 2020"
   ]
  },
  {
   "cell_type": "markdown",
   "metadata": {},
   "source": [
    "## Problematique\n",
    "### Quelle est l'impacte du covid sur les société en France sur l'année 2020 ?\n"
   ]
  },
  {
   "cell_type": "code",
   "execution_count": 1,
   "metadata": {},
   "outputs": [],
   "source": [
    "import pyspark\n",
    "from pyspark.sql import SparkSession\n",
    "from pyspark.sql import *"
   ]
  },
  {
   "cell_type": "code",
   "execution_count": 2,
   "metadata": {},
   "outputs": [],
   "source": [
    "spark = SparkSession.builder.appName(\"covid_societe\").getOrCreate()"
   ]
  },
  {
   "cell_type": "code",
   "execution_count": 3,
   "metadata": {},
   "outputs": [
    {
     "name": "stdout",
     "output_type": "stream",
     "text": [
      "+---+--------+----------+----+---+---+---+\n",
      "|reg|cl_age90|      jour|hosp|rea|rad| dc|\n",
      "+---+--------+----------+----+---+---+---+\n",
      "| 01|       0|2020-03-18|   0|  0|  0|  0|\n",
      "| 01|      09|2020-03-18|   0|  0|  0|  0|\n",
      "| 01|      19|2020-03-18|   0|  0|  0|  0|\n",
      "| 01|      29|2020-03-18|   0|  0|  0|  0|\n",
      "| 01|      39|2020-03-18|   0|  0|  0|  0|\n",
      "| 01|      49|2020-03-18|   0|  0|  0|  0|\n",
      "| 01|      59|2020-03-18|   0|  0|  0|  0|\n",
      "| 01|      69|2020-03-18|   0|  0|  0|  0|\n",
      "| 01|      79|2020-03-18|   0|  0|  0|  0|\n",
      "| 01|      89|2020-03-18|   0|  0|  0|  0|\n",
      "| 01|      90|2020-03-18|   0|  0|  0|  0|\n",
      "| 02|       0|2020-03-18|  16|  5|  0|  1|\n",
      "| 02|      09|2020-03-18|   0|  0|  0|  0|\n",
      "| 02|      19|2020-03-18|   0|  0|  0|  0|\n",
      "| 02|      29|2020-03-18|   2|  1|  0|  0|\n",
      "| 02|      39|2020-03-18|   2|  0|  0|  0|\n",
      "| 02|      49|2020-03-18|   2|  1|  0|  0|\n",
      "| 02|      59|2020-03-18|   5|  0|  0|  0|\n",
      "| 02|      69|2020-03-18|   4|  3|  0|  0|\n",
      "| 02|      79|2020-03-18|   1|  0|  0|  0|\n",
      "+---+--------+----------+----+---+---+---+\n",
      "only showing top 20 rows\n",
      "\n",
      "+---+--------+----------+----+---+---+---+\n",
      "|reg|cl_age90|      jour|hosp|rea|rad| dc|\n",
      "+---+--------+----------+----+---+---+---+\n",
      "| 01|       0|2020-12-13|  77|  5|729|165|\n",
      "| 02|      89|2020-12-13|   6|  0| 39| 12|\n",
      "| 01|      09|2020-12-13|   0|  0| 21|  0|\n",
      "| 01|      19|2020-12-13|   0|  0|  9|  0|\n",
      "| 01|      29|2020-12-13|   0|  0| 17|  0|\n",
      "| 01|      39|2020-12-13|   2|  0| 56|  2|\n",
      "| 01|      49|2020-12-13|   4|  0| 97|  7|\n",
      "| 01|      59|2020-12-13|  10|  2|133|  9|\n",
      "| 01|      69|2020-12-13|  11|  1|170| 42|\n",
      "| 01|      79|2020-12-13|  16|  2|128| 55|\n",
      "| 01|      89|2020-12-13|  22|  0| 82| 43|\n",
      "| 01|      90|2020-12-13|  12|  0| 16|  7|\n",
      "| 02|       0|2020-12-13|  31|  7|348| 42|\n",
      "| 02|      09|2020-12-13|   0|  0|  1|  0|\n",
      "| 02|      19|2020-12-13|   0|  0|  2|  0|\n",
      "| 02|      29|2020-12-13|   0|  0| 13|  0|\n",
      "| 02|      39|2020-12-13|   2|  0| 22|  3|\n",
      "| 02|      49|2020-12-13|   1|  0| 47|  1|\n",
      "| 02|      59|2020-12-13|   4|  0| 79|  3|\n",
      "| 02|      69|2020-12-13|  10|  4| 74|  7|\n",
      "+---+--------+----------+----+---+---+---+\n",
      "only showing top 20 rows\n",
      "\n"
     ]
    }
   ],
   "source": [
    "df_test = spark.read.csv(\"../data/donnees_covid_societes/donnees-hospitalieres-classe-age-covid19-2020-12-13-19h03.csv\",header=True,sep=\";\")\n",
    "df_test.show()\n",
    "df_test.orderBy('jour', ascending=False).show()\n"
   ]
  }
 ],
 "metadata": {
  "kernelspec": {
   "display_name": "Python 3",
   "language": "python",
   "name": "python3"
  },
  "language_info": {
   "codemirror_mode": {
    "name": "ipython",
    "version": 3
   },
   "file_extension": ".py",
   "mimetype": "text/x-python",
   "name": "python",
   "nbconvert_exporter": "python",
   "pygments_lexer": "ipython3",
   "version": "3.8.5"
  }
 },
 "nbformat": 4,
 "nbformat_minor": 4
}
