{
 "cells": [
  {
   "cell_type": "markdown",
   "metadata": {},
   "source": [
    "# Projet Spark - Covid VS Societé 2020"
   ]
  },
  {
   "cell_type": "markdown",
   "metadata": {},
   "source": [
    "## Problematique\n",
    "### Quelle est l'impacte du covid sur les société en France sur l'année 2020 ?\n"
   ]
  },
  {
   "cell_type": "code",
   "execution_count": 56,
   "metadata": {
    "pycharm": {
     "name": "#%%\n"
    }
   },
   "outputs": [],
   "source": [
    "import pyspark\n",
    "from pyspark.sql import SparkSession\n",
    "from pyspark.sql import *\n",
    "import pyspark.sql.functions as f\n",
    "from pyspark.sql.types import IntegerType\n",
    "from pyspark.sql.functions import unix_timestamp, from_unixtime"
   ]
  },
  {
   "cell_type": "markdown",
   "metadata": {},
   "source": [
    "**Création de la session spark**"
   ]
  },
  {
   "cell_type": "code",
   "execution_count": 57,
   "metadata": {
    "pycharm": {
     "name": "#%%\n"
    }
   },
   "outputs": [],
   "source": [
    "spark = SparkSession.builder.appName(\"covid_societe\").getOrCreate()"
   ]
  },
  {
   "cell_type": "markdown",
   "metadata": {},
   "source": [
    "**Lecture du fichier des données covid-19**"
   ]
  },
  {
   "cell_type": "code",
   "execution_count": 58,
   "metadata": {
    "pycharm": {
     "name": "#%%\n"
    }
   },
   "outputs": [
    {
     "name": "stdout",
     "output_type": "stream",
     "text": [
      "+----------+-------------+--------------------------------------------------------+\n",
      "|Colonne   |Type         |Description_FR                                          |\n",
      "+----------+-------------+--------------------------------------------------------+\n",
      "|dep       |integer      |Département                                             |\n",
      "|jour      |string($date)|Date de notification                                    |\n",
      "|incid_hosp|string       |Nombre quotidien de personnes nouvellement hospitalisées|\n",
      "|incid_rea |integer      |Nombre quotidien de nouvelles admissions en réanimation |\n",
      "|incid_dc  |integer      |Nombre quotidien de personnes nouvellement décédées     |\n",
      "|incid_rad |integer      |Nombre quotidien de nouveaux retours à domicile         |\n",
      "+----------+-------------+--------------------------------------------------------+\n",
      "\n",
      "+---+----------+----------+---------+--------+---------+\n",
      "|dep|      jour|incid_hosp|incid_rea|incid_dc|incid_rad|\n",
      "+---+----------+----------+---------+--------+---------+\n",
      "| 01|2020-03-19|         1|        0|       0|        0|\n",
      "| 02|2020-03-19|        38|        8|      10|       15|\n",
      "| 03|2020-03-19|         2|        0|       0|        6|\n",
      "| 04|2020-03-19|         1|        0|       0|        1|\n",
      "| 05|2020-03-19|         4|        0|       0|        1|\n",
      "| 06|2020-03-19|        12|        4|       0|        4|\n",
      "| 07|2020-03-19|         7|        1|       0|        0|\n",
      "| 08|2020-03-19|         1|        1|       0|        0|\n",
      "| 09|2020-03-19|         0|        0|       0|        0|\n",
      "| 10|2020-03-19|         6|        1|       0|        0|\n",
      "| 11|2020-03-19|        19|        5|       3|        4|\n",
      "| 12|2020-03-19|         4|        0|       1|        1|\n",
      "| 13|2020-03-19|        89|       16|       0|       43|\n",
      "| 14|2020-03-19|         3|        0|       0|        1|\n",
      "| 15|2020-03-19|         1|        0|       0|        0|\n",
      "| 16|2020-03-19|         1|        0|       0|        2|\n",
      "| 17|2020-03-19|         2|        0|       0|        0|\n",
      "| 18|2020-03-19|         0|        0|       0|        0|\n",
      "| 19|2020-03-19|         1|        0|       0|        0|\n",
      "| 21|2020-03-19|        26|       11|       2|       24|\n",
      "+---+----------+----------+---------+--------+---------+\n",
      "only showing top 20 rows\n",
      "\n",
      "La plus grande date :\n",
      "+---+----------+----------+---------+--------+---------+\n",
      "|dep|      jour|incid_hosp|incid_rea|incid_dc|incid_rad|\n",
      "+---+----------+----------+---------+--------+---------+\n",
      "| 01|2020-12-13|         6|        0|       0|        8|\n",
      "+---+----------+----------+---------+--------+---------+\n",
      "only showing top 1 row\n",
      "\n"
     ]
    }
   ],
   "source": [
    "path_file_data = \"../data/donnees_covid_societes/\"\n",
    "\n",
    "df_covid_par_dep = spark.read.csv(\n",
    "    path_file_data + \"covid/covid_quotidien_par_dep_du_patient/donnees-hospitalieres-nouveaux-covid19-2020-12-13-19h03.csv\",\n",
    "    header=True,\n",
    "    sep=\";\"\n",
    ")\n",
    "df_metadonne_covid_par_dep_et_sexe_patient = spark.read.csv(\n",
    "    path_file_data + \"covid/covid_quotidien_par_dep_du_patient/metadonnees-hospit-incid.csv\",\n",
    "    header=True,\n",
    "    sep=\";\"\n",
    ")\n",
    "\n",
    "# Affichage des metadonnés\n",
    "df_metadonne_covid_par_dep_et_sexe_patient.select(\n",
    "    \"Colonne\",\n",
    "    \"Type \",\n",
    "    \"Description_FR\"\n",
    ").filter(\n",
    "    df_metadonne_covid_par_dep_et_sexe_patient.Colonne.isNotNull()\n",
    ").show(20, False)\n",
    "\n",
    "# Affichage des données\n",
    "df_covid_par_dep = df_covid_par_dep.filter(df_covid_par_dep.jour >= '01/01/2021')\n",
    "df_covid_par_dep.show()\n",
    "\n",
    "# La plus grande date\n",
    "print(\"La plus grande date :\")\n",
    "df_covid_par_dep.orderBy('jour', ascending=False).show(1)"
   ]
  },
  {
   "cell_type": "markdown",
   "metadata": {},
   "source": [
    "### Quelle departement a eu le plus d'hospitalisation, de réanimation et de déces ? (ecrire dans un csv dans /resultat)"
   ]
  },
  {
   "cell_type": "code",
   "execution_count": 59,
   "metadata": {
    "pycharm": {
     "name": "#%%\n"
    }
   },
   "outputs": [],
   "source": [
    "df_covid_sum_par_dep = df_covid_par_dep.groupBy(\n",
    "    \"dep\"\n",
    ").agg( \n",
    "    # On fait la somme de chaque colonne puis on cast le resultat en INTEGER et on le renomme\n",
    "    f.sum(\"incid_hosp\").cast(IntegerType()).alias('incid_hosp'), \n",
    "    f.sum(\"incid_rea\").cast(IntegerType()).alias('incid_rea'),\n",
    "    f.sum(\"incid_rad\").cast(IntegerType()).alias('incid_rad'),\n",
    "    f.sum(\"incid_dc\").cast(IntegerType()).alias('incid_dc')\n",
    ").orderBy(\"dep\",ascending=True)\n",
    "\n",
    "# df_covid_sum_par_dep.show()\n",
    "\n",
    "# On recupere les valeurs max\n",
    "max_hospi = df_covid_sum_par_dep.groupBy().max(\"incid_hosp\").collect()[0][\"max(incid_hosp)\"]\n",
    "max_rea = df_covid_sum_par_dep.groupBy().max(\"incid_rea\").collect()[0][\"max(incid_rea)\"]\n",
    "max_dc = df_covid_sum_par_dep.groupBy().max(\"incid_dc\").collect()[0][\"max(incid_dc)\"]"
   ]
  },
  {
   "cell_type": "markdown",
   "metadata": {},
   "source": [
    "#### Département avec le plus d'hospitalisation"
   ]
  },
  {
   "cell_type": "code",
   "execution_count": 60,
   "metadata": {
    "pycharm": {
     "name": "#%%\n"
    }
   },
   "outputs": [
    {
     "name": "stdout",
     "output_type": "stream",
     "text": [
      "+---+----------+\n",
      "|dep|incid_hosp|\n",
      "+---+----------+\n",
      "| 75|     15085|\n",
      "+---+----------+\n",
      "\n"
     ]
    }
   ],
   "source": [
    "# Le département avec le plus d'hospitalisation\n",
    "df_covid_max_hospi = df_covid_sum_par_dep.filter(\n",
    "    f.col(\"incid_hosp\") == max_hospi    \n",
    ").select(\n",
    "    \"dep\",\n",
    "    \"incid_hosp\"\n",
    ")\n",
    "df_covid_max_hospi.show()"
   ]
  },
  {
   "cell_type": "markdown",
   "metadata": {},
   "source": [
    "#### Département avec le plus de réanimation"
   ]
  },
  {
   "cell_type": "code",
   "execution_count": 61,
   "metadata": {
    "pycharm": {
     "name": "#%%\n"
    }
   },
   "outputs": [
    {
     "name": "stdout",
     "output_type": "stream",
     "text": [
      "+---+---------+\n",
      "|dep|incid_rea|\n",
      "+---+---------+\n",
      "| 75|     3475|\n",
      "+---+---------+\n",
      "\n"
     ]
    }
   ],
   "source": [
    "# Le département avec le plus de réanimation\n",
    "df_covid_max_rea = df_covid_sum_par_dep.filter(\n",
    "    f.col(\"incid_rea\") == max_rea    \n",
    ").select(\n",
    "    \"dep\",\n",
    "    \"incid_rea\"\n",
    ")\n",
    "df_covid_max_rea.show()"
   ]
  },
  {
   "cell_type": "markdown",
   "metadata": {},
   "source": [
    "#### Département avec le plus de decés"
   ]
  },
  {
   "cell_type": "code",
   "execution_count": 62,
   "metadata": {
    "pycharm": {
     "name": "#%%\n"
    }
   },
   "outputs": [
    {
     "name": "stdout",
     "output_type": "stream",
     "text": [
      "+---+--------+\n",
      "|dep|incid_dc|\n",
      "+---+--------+\n",
      "| 75|    2600|\n",
      "+---+--------+\n",
      "\n"
     ]
    }
   ],
   "source": [
    "# Le département avec le plus de decés\n",
    "df_covid_max_dc = df_covid_sum_par_dep.filter(\n",
    "    f.col(\"incid_dc\") == max_dc    \n",
    ").select(\n",
    "    \"dep\",\n",
    "    \"incid_dc\"\n",
    ")\n",
    "df_covid_max_dc.show()"
   ]
  },
  {
   "cell_type": "markdown",
   "metadata": {},
   "source": [
    "#### Sauvergarder dans un fichier csv "
   ]
  },
  {
   "cell_type": "code",
   "execution_count": 63,
   "metadata": {
    "pycharm": {
     "name": "#%%\n"
    }
   },
   "outputs": [],
   "source": [
    "path_file_save = \"../resultat/\"\n",
    "\n",
    "# On est obliger de passer par pandas, sinon erreur\n",
    "df_covid_max_hospi.toPandas().to_csv(path_file_save + 'departement_avec_le_plus_hospitalisation.csv')\n",
    "df_covid_max_rea.toPandas().to_csv(path_file_save + 'departement_avec_le_plus_de_reanimation.csv')\n",
    "df_covid_max_dc.toPandas().to_csv(path_file_save + 'departement_avec_le_plus_de_deces.csv')\n",
    "\n",
    "# df_covid_max_hospi.write.csv(path_file_save +'departement_avec_le_plus_hospitalisation.csv')"
   ]
  },
  {
   "cell_type": "markdown",
   "metadata": {},
   "source": [
    "### Réponse \n",
    "**Paris** est la ville avec le plus d'incident:\n",
    "- Hospitalisation: **16 559**\n",
    "- Réanimation: **3 822**\n",
    "- Dèces: **2 850**"
   ]
  },
  {
   "cell_type": "markdown",
   "metadata": {},
   "source": [
    "### Quelle jour a été le plus critique en hospitalisation, reanimation et deces (par departement) (ecrire dans un csv dans /resultat)\n",
    "DF1: dep | jour | max(hospi)\n",
    "\n",
    "DF2: dep | jour | max(rea)\n",
    "\n",
    "DF3: dep | jour | max(deces)"
   ]
  },
  {
   "cell_type": "markdown",
   "metadata": {},
   "source": [
    "### Lecture du fichier des societé radiees"
   ]
  },
  {
   "cell_type": "code",
   "execution_count": 64,
   "metadata": {
    "pycharm": {
     "name": "#%%\n"
    }
   },
   "outputs": [
    {
     "name": "stdout",
     "output_type": "stream",
     "text": [
      "+--------------------+--------+----------------+--------------+\n",
      "|        Dénomination|Num dept|     Département|Date radiation|\n",
      "+--------------------+--------+----------------+--------------+\n",
      "|             ARMICOM|      44|Loire-Atlantique|    01/02/2020|\n",
      "|        JLD TRAITEUR|      42|           Loire|    01/02/2020|\n",
      "|     L'ART A 4 MAINS|      21|       Côte d'Or|    01/02/2020|\n",
      "|     LA CHOUETTE VTC|      21|       Côte d'Or|    01/02/2020|\n",
      "|          SPORT KIFF|      21|       Côte d'Or|    01/02/2020|\n",
      "|   HIGH TECH FINANCE|      42|           Loire|    01/02/2020|\n",
      "|SOCIETE SHIRLEY P...|      92|  Hauts-de-Seine|    01/02/2020|\n",
      "|           COPOPLAST|      21|       Côte d'Or|    01/02/2020|\n",
      "|              AND CO|      92|  Hauts-de-Seine|    01/02/2020|\n",
      "|JEROME RAVET CONSEIL|      92|  Hauts-de-Seine|    01/02/2020|\n",
      "|              COMP-I|      61|            Orne|    01/02/2020|\n",
      "|            SEBAFLEX|      21|       Côte d'Or|    01/02/2020|\n",
      "|CHATEAU LANDON EN...|      77|  Seine-et-Marne|    01/03/2020|\n",
      "|               E.R.C|      77|  Seine-et-Marne|    01/03/2020|\n",
      "|         LE PLOMBIER|      77|  Seine-et-Marne|    01/03/2020|\n",
      "|              DEVWOO|      77|  Seine-et-Marne|    01/03/2020|\n",
      "|             BASABOZ|      77|  Seine-et-Marne|    01/03/2020|\n",
      "|       ROYAL REPTILE|      77|  Seine-et-Marne|    01/03/2020|\n",
      "|                 PRS|      77|  Seine-et-Marne|    01/03/2020|\n",
      "|           EASY JUST|      77|  Seine-et-Marne|    01/03/2020|\n",
      "+--------------------+--------+----------------+--------------+\n",
      "only showing top 20 rows\n",
      "\n",
      "La plus grande date :\n",
      "+--------------+\n",
      "|Date radiation|\n",
      "+--------------+\n",
      "|    31/10/2020|\n",
      "+--------------+\n",
      "only showing top 1 row\n",
      "\n"
     ]
    }
   ],
   "source": [
    "path_file_data = \"../data/donnees_covid_societes/\"\n",
    "\n",
    "df_societe_radie = spark.read.csv(\n",
    "    path_file_data + \"societe/societes-radiees-2020.csv\",\n",
    "    header=True,\n",
    "    sep=\";\"\n",
    ")\n",
    "# df_societe_radie.show()\n",
    "\n",
    "# On recupere uniquement les colonnes qui nous interesse\n",
    "df_societe_radie = df_societe_radie.select(\n",
    "    \"Dénomination\",\n",
    "    \"Num dept\",\n",
    "    \"Département\",\n",
    "    \"Date radiation\"\n",
    ")\n",
    "\n",
    "# On Supprimme les lignes avec des valeur vide\n",
    "df_societe_radie = df_societe_radie.filter(\n",
    "    f.col(\"Num dept\").isNotNull() &\n",
    "    f.col(\"Date radiation\").isNotNull()\n",
    ").orderBy('Date radiation', ascending=True)\n",
    "\n",
    "# Affichage des données\n",
    "df_societe_radie.show()\n",
    "\n",
    "# La plus grande date\n",
    "print(\"La plus grande date :\")\n",
    "df_societe_radie.select(\"Date radiation\").orderBy('Date radiation', ascending=False).show(1)"
   ]
  },
  {
   "cell_type": "markdown",
   "metadata": {},
   "source": [
    "### Quel département a eu le plus de radiations d'entreprises en 2020 ? \n",
    "\n",
    "\n",
    "DF df_dpt_max_radie: Num dept | nombre_dentreprise_radie"
   ]
  },
  {
   "cell_type": "code",
   "execution_count": 126,
   "metadata": {},
   "outputs": [
    {
     "name": "stdout",
     "output_type": "stream",
     "text": [
      "+--------+--------------+-------------------+----------------+\n",
      "|Num dept|Date radiation|Date radiation unix|nb_societe_radie|\n",
      "+--------+--------------+-------------------+----------------+\n",
      "|       1|    16/12/2020|2020-12-16 00:00:00|             208|\n",
      "|       1|    24/12/2020|2020-12-24 00:00:00|              98|\n",
      "|       1|    28/09/2020|2020-09-28 00:00:00|              85|\n",
      "|       1|    23/09/2020|2020-09-23 00:00:00|              67|\n",
      "|       1|    18/09/2020|2020-09-18 00:00:00|              61|\n",
      "|       1|    09/10/2020|2020-10-09 00:00:00|              48|\n",
      "|       1|    18/06/2020|2020-06-18 00:00:00|              43|\n",
      "|       1|    10/12/2020|2020-12-10 00:00:00|              35|\n",
      "|       1|    05/05/2020|2020-05-05 00:00:00|              32|\n",
      "|       1|    16/01/2020|2020-01-16 00:00:00|              32|\n",
      "|       1|    12/03/2020|2020-03-12 00:00:00|              31|\n",
      "|       1|    15/12/2020|2020-12-15 00:00:00|              30|\n",
      "|       1|    12/06/2020|2020-06-12 00:00:00|              29|\n",
      "|       1|    04/12/2020|2020-12-04 00:00:00|              27|\n",
      "|       1|    10/11/2020|2020-11-10 00:00:00|              25|\n",
      "|       1|    29/10/2020|2020-10-29 00:00:00|              24|\n",
      "|       1|    19/11/2020|2020-11-19 00:00:00|              22|\n",
      "|       1|    22/09/2020|2020-09-22 00:00:00|              21|\n",
      "|       1|    09/07/2020|2020-07-09 00:00:00|              20|\n",
      "|       1|    21/02/2020|2020-02-21 00:00:00|              19|\n",
      "+--------+--------------+-------------------+----------------+\n",
      "only showing top 20 rows\n",
      "\n"
     ]
    }
   ],
   "source": [
    "# Nombre de societe radié par departement et par jour\n",
    "df_nb_societe_radie = df_societe_radie.groupBy(\n",
    "    \"Num dept\",\n",
    "    \"Date radiation\",\n",
    "    from_unixtime(unix_timestamp(\"Date radiation\", 'dd/MM/yyy')).alias('Date radiation unix')\n",
    ").agg(\n",
    "    # On fait le count de chaque colonne puis on cast le resultat en INTEGER et on le renomme\n",
    "    f.count(\"Num dept\").cast(IntegerType()).alias('nb_societe_radie')\n",
    ").orderBy(\"Num dept\", f.col(\"nb_societe_radie\").desc())\n",
    "\n",
    "df_nb_societe_radie.show()"
   ]
  },
  {
   "cell_type": "code",
   "execution_count": 127,
   "metadata": {},
   "outputs": [
    {
     "name": "stdout",
     "output_type": "stream",
     "text": [
      "Département avec le plus de radiation d'entreprise:\n",
      "+--------+------------------------+\n",
      "|Num dept|nombre_dentreprise_radie|\n",
      "+--------+------------------------+\n",
      "|      75|                   16716|\n",
      "+--------+------------------------+\n",
      "\n"
     ]
    }
   ],
   "source": [
    "df_dpt_radie = df_nb_societe_radie.groupBy(\n",
    "    \"Num dept\"\n",
    ").agg(\n",
    "    # On fait la somme du nombre d'entreprises radiées par département\n",
    "    f.sum(\"nb_societe_radie\").cast(IntegerType()).alias(\"nombre_dentreprise_radie\")\n",
    ")\n",
    "\n",
    "# On récupère la valeur maximale d'entreprises radiées\n",
    "max_radie_par_dpt = df_dpt_radie.groupBy().max(\"nombre_dentreprise_radie\").collect()[0][\"max(nombre_dentreprise_radie)\"]\n",
    "\n",
    "df_dpt_radie_max = df_dpt_radie.filter(\n",
    "    # On filtre par la valeur maximale d'entreprises radiées\n",
    "    f.col(\"nombre_dentreprise_radie\") == max_radie_par_dpt\n",
    ").select(\n",
    "    \"Num dept\",\n",
    "    \"nombre_dentreprise_radie\"\n",
    ")\n",
    "\n",
    "print(\"Département avec le plus de radiation d'entreprise:\")\n",
    "df_dpt_radie_max.show()"
   ]
  },
  {
   "cell_type": "code",
   "execution_count": 65,
   "metadata": {
    "pycharm": {
     "name": "#%%\n"
    }
   },
   "outputs": [
    {
     "name": "stdout",
     "output_type": "stream",
     "text": [
      "+--------+--------------+-------------------+----------------+\n",
      "|Num dept|Date radiation|Date radiation unix|nb_societe_radie|\n",
      "+--------+--------------+-------------------+----------------+\n",
      "|       1|    02/01/2020|2020-01-02 00:00:00|               7|\n",
      "|       1|    03/01/2020|2020-01-03 00:00:00|               3|\n",
      "|       1|    07/01/2020|2020-01-07 00:00:00|               2|\n",
      "|       1|    08/01/2020|2020-01-08 00:00:00|               5|\n",
      "|       1|    09/01/2020|2020-01-09 00:00:00|               1|\n",
      "|       1|    10/01/2020|2020-01-10 00:00:00|               6|\n",
      "|       1|    13/01/2020|2020-01-13 00:00:00|               4|\n",
      "|       1|    14/01/2020|2020-01-14 00:00:00|               2|\n",
      "|       1|    15/01/2020|2020-01-15 00:00:00|               3|\n",
      "|       1|    16/01/2020|2020-01-16 00:00:00|              32|\n",
      "|       1|    17/01/2020|2020-01-17 00:00:00|               3|\n",
      "|       1|    20/01/2020|2020-01-20 00:00:00|               3|\n",
      "|       1|    21/01/2020|2020-01-21 00:00:00|               4|\n",
      "|       1|    22/01/2020|2020-01-22 00:00:00|               3|\n",
      "|       1|    23/01/2020|2020-01-23 00:00:00|               4|\n",
      "|       1|    24/01/2020|2020-01-24 00:00:00|               2|\n",
      "|       1|    27/01/2020|2020-01-27 00:00:00|               2|\n",
      "|       1|    28/01/2020|2020-01-28 00:00:00|               5|\n",
      "|       1|    29/01/2020|2020-01-29 00:00:00|               2|\n",
      "|       1|    30/01/2020|2020-01-30 00:00:00|               1|\n",
      "+--------+--------------+-------------------+----------------+\n",
      "only showing top 20 rows\n",
      "\n",
      "+---+----------+----------+---------+--------+---------+---------+\n",
      "|dep|      jour|incid_hosp|incid_rea|incid_dc|incid_rad|jour unix|\n",
      "+---+----------+----------+---------+--------+---------+---------+\n",
      "| 01|2020-03-30|        20|        7|       4|        1|     null|\n",
      "| 01|2020-04-19|         3|        1|       0|        1|     null|\n",
      "| 01|2020-03-31|        20|        0|       1|        9|     null|\n",
      "| 01|2020-03-29|        11|        3|       3|        3|     null|\n",
      "| 01|2020-04-01|        38|       14|       2|       10|     null|\n",
      "| 01|2020-03-22|         3|        1|       0|        1|     null|\n",
      "| 01|2020-04-02|        34|        7|       2|       19|     null|\n",
      "| 01|2020-03-20|         0|        0|       0|        1|     null|\n",
      "| 01|2020-04-03|        15|        4|       3|       13|     null|\n",
      "| 01|2020-03-25|        13|        2|       0|        5|     null|\n",
      "| 01|2020-04-04|        25|        8|       5|        9|     null|\n",
      "| 01|2020-03-27|        14|        2|       0|        0|     null|\n",
      "| 01|2020-04-05|        12|        4|       2|        3|     null|\n",
      "| 01|2020-04-09|        13|        3|       4|        8|     null|\n",
      "| 01|2020-04-10|        17|        2|       5|        8|     null|\n",
      "| 01|2020-03-24|        11|        1|       0|        4|     null|\n",
      "| 01|2020-04-11|         7|        3|       2|       15|     null|\n",
      "| 01|2020-03-23|        14|        1|       0|        5|     null|\n",
      "| 01|2020-04-12|         4|        2|       0|        4|     null|\n",
      "| 01|2020-03-26|        14|        3|       2|        2|     null|\n",
      "+---+----------+----------+---------+--------+---------+---------+\n",
      "only showing top 20 rows\n",
      "\n"
     ]
    }
   ],
   "source": [
    "### Quelle est l'impacte du covid sur les société en France sur l'année 2020 ?\n",
    "\n",
    "DF societe : Num dept | date radiation | nb_de_societe_radié\n",
    "\n",
    "DF covid : dep   | jour           | hosp | rea | rad | dc\n",
    "\n",
    "Df covid_societe : dep | date | nb_de_societe_radié | hosp | rea | rad | dc"
   ]
  },
  {
   "cell_type": "code",
   "execution_count": 66,
   "metadata": {
    "pycharm": {
     "name": "#%%\n"
    }
   },
   "outputs": [
    {
     "name": "stdout",
     "output_type": "stream",
     "text": [
      "+---+---------+----------+---------+--------+---------+----------------+\n",
      "|dep|jour unix|incid_hosp|incid_rea|incid_dc|incid_rad|nb_societe_radie|\n",
      "+---+---------+----------+---------+--------+---------+----------------+\n",
      "+---+---------+----------+---------+--------+---------+----------------+\n",
      "\n"
     ]
    }
   ],
   "source": [
    "# Jointure entre le df des societés et du covid\n",
    "df_societe_radie_join_covid = df_covid_unix.join(\n",
    "    df_nb_societe_radie,\n",
    "    (df_covid_unix.dep == f.col(\"Num dept\")) & (f.col(\"jour unix\") == f.col(\"Date radiation unix\"))\n",
    ")\n",
    "\n",
    "# On recupere les colonnes qui nous intéresse\n",
    "df_societe_radie_join_covid = df_societe_radie_join_covid.select(\n",
    "    \"dep\",\n",
    "    \"jour unix\",\n",
    "    \"incid_hosp\",\n",
    "    \"incid_rea\",\n",
    "    \"incid_dc\",\n",
    "    \"incid_rad\",\n",
    "    \"nb_societe_radie\"\n",
    ").orderBy(\"dep\", \"jour unix\")\n",
    "\n",
    "df_societe_radie_join_covid.show()"
   ]
  },
  {
   "cell_type": "code",
   "execution_count": 67,
   "metadata": {
    "pycharm": {
     "name": "#%%\n"
    }
   },
   "outputs": [
    {
     "name": "stdout",
     "output_type": "stream",
     "text": [
      "+---+---------------+----------+---------+--------+---------+----------------+\n",
      "|dep|jour unix month|incid_hosp|incid_rea|incid_dc|incid_rad|nb_societe_radie|\n",
      "+---+---------------+----------+---------+--------+---------+----------------+\n",
      "+---+---------------+----------+---------+--------+---------+----------------+\n",
      "\n"
     ]
    }
   ],
   "source": [
    "# Nombre de incident covid et de societé radié (par departement et par mois)\n",
    "df_groupby_par_dep_mois_societe_covid = df_societe_radie_join_covid.groupBy(\n",
    "    f.col(\"dep\").cast(IntegerType()).alias('dep'),\n",
    "    f.month(f.col(\"jour unix\")).alias(\"jour unix month\")\n",
    ").agg(\n",
    "    f.sum(\"incid_hosp\").cast(IntegerType()).alias('incid_hosp'),\n",
    "    f.sum(\"incid_rea\").cast(IntegerType()).alias('incid_rea'),\n",
    "    f.sum(\"incid_dc\").cast(IntegerType()).alias('incid_dc'),\n",
    "    f.sum(\"incid_rad\").cast(IntegerType()).alias('incid_rad'),\n",
    "    f.sum(\"nb_societe_radie\").cast(IntegerType()).alias('nb_societe_radie'),\n",
    ").orderBy(\"dep\", \"jour unix month\")\n",
    "\n",
    "df_groupby_par_dep_mois_societe_covid.show(150)"
   ]
  },
  {
   "cell_type": "code",
   "execution_count": 68,
   "metadata": {
    "pycharm": {
     "name": "#%%\n"
    }
   },
   "outputs": [
    {
     "name": "stdout",
     "output_type": "stream",
     "text": [
      "+-----+----------+---------+--------+---------+----------------+\n",
      "|month|incid_hosp|incid_rea|incid_dc|incid_rad|nb_societe_radie|\n",
      "+-----+----------+---------+--------+---------+----------------+\n",
      "+-----+----------+---------+--------+---------+----------------+\n",
      "\n"
     ]
    }
   ],
   "source": [
    "# Nombre d'incident covid et de societé radié par mois\n",
    "df_groupby_par_mois_societe_covid = df_societe_radie_join_covid.groupBy(\n",
    "    f.month(f.col(\"jour unix\")).alias(\"month\")\n",
    ").agg(\n",
    "    f.sum(\"incid_hosp\").cast(IntegerType()).alias('incid_hosp'),\n",
    "    f.sum(\"incid_rea\").cast(IntegerType()).alias('incid_rea'),\n",
    "    f.sum(\"incid_dc\").cast(IntegerType()).alias('incid_dc'),\n",
    "    f.sum(\"incid_rad\").cast(IntegerType()).alias('incid_rad'),\n",
    "    f.sum(\"nb_societe_radie\").cast(IntegerType()).alias('nb_societe_radie'),\n",
    ").orderBy(\"month\")\n",
    "\n",
    "df_groupby_par_mois_societe_covid.show(150)"
   ]
  },
  {
   "cell_type": "code",
   "execution_count": 69,
   "metadata": {
    "pycharm": {
     "name": "#%%\n"
    }
   },
   "outputs": [
    {
     "name": "stdout",
     "output_type": "stream",
     "text": [
      "+---+----------+---------+--------+---------+----------------+\n",
      "|dep|incid_hosp|incid_rea|incid_dc|incid_rad|nb_societe_radie|\n",
      "+---+----------+---------+--------+---------+----------------+\n",
      "+---+----------+---------+--------+---------+----------------+\n",
      "\n"
     ]
    }
   ],
   "source": [
    "# Nombre d'incident covid et de societé radié par departement\n",
    "df_groupby_par_dep_societe_covid = df_societe_radie_join_covid.groupBy(\n",
    "    f.col(\"dep\").cast(IntegerType()).alias('dep'),\n",
    ").agg(\n",
    "    f.sum(\"incid_hosp\").cast(IntegerType()).alias('incid_hosp'),\n",
    "    f.sum(\"incid_rea\").cast(IntegerType()).alias('incid_rea'),\n",
    "    f.sum(\"incid_dc\").cast(IntegerType()).alias('incid_dc'),\n",
    "    f.sum(\"incid_rad\").cast(IntegerType()).alias('incid_rad'),\n",
    "    f.sum(\"nb_societe_radie\").cast(IntegerType()).alias('nb_societe_radie'),\n",
    ").orderBy(\"dep\")\n",
    "\n",
    "df_groupby_par_dep_societe_covid.show(150)"
   ]
  },
  {
   "cell_type": "markdown",
   "metadata": {},
   "source": [
    "#### Sauvergarder dans un fichier csv "
   ]
  },
  {
   "cell_type": "code",
   "execution_count": 70,
   "metadata": {
    "pycharm": {
     "name": "#%%\n"
    }
   },
   "outputs": [],
   "source": [
    "path_file_save = \"../resultat/\"\n",
    "\n",
    "# On est obliger de passer par pandas, sinon erreur\n",
    "df_groupby_par_dep_mois_societe_covid.toPandas().to_csv(path_file_save + 'Nombre dincident covid et de societé radié par departement et par mois.csv')\n",
    "df_groupby_par_mois_societe_covid.toPandas().to_csv(path_file_save + 'Nombre dincident covid et de societé radié par mois.csv')\n",
    "df_groupby_par_dep_societe_covid.toPandas().to_csv(path_file_save + 'Nombre dincident covid et de societé radié par departement.csv')"
   ]
  },
  {
   "cell_type": "markdown",
   "metadata": {},
   "source": [
    "### Datavisualisation"
   ]
  },
  {
   "cell_type": "code",
   "execution_count": 71,
   "metadata": {
    "pycharm": {
     "name": "#%%\n"
    }
   },
   "outputs": [],
   "source": [
    "import matplotlib.pyplot as plt"
   ]
  },
  {
   "cell_type": "markdown",
   "metadata": {},
   "source": [
    "**Nombre d'incident covid et de societé radié par mois**"
   ]
  },
  {
   "cell_type": "code",
   "execution_count": 72,
   "metadata": {
    "pycharm": {
     "name": "#%%\n"
    }
   },
   "outputs": [
    {
     "ename": "IndexError",
     "evalue": "index 0 is out of bounds for axis 0 with size 0",
     "output_type": "error",
     "traceback": [
      "\u001B[1;31m---------------------------------------------------------------------------\u001B[0m",
      "\u001B[1;31mIndexError\u001B[0m                                Traceback (most recent call last)",
      "\u001B[1;32m<ipython-input-72-e644a26fc260>\u001B[0m in \u001B[0;36m<module>\u001B[1;34m\u001B[0m\n\u001B[0;32m      1\u001B[0m \u001B[0mdf_datavis\u001B[0m \u001B[1;33m=\u001B[0m \u001B[0mdf_groupby_par_mois_societe_covid\u001B[0m\u001B[1;33m.\u001B[0m\u001B[0mtoPandas\u001B[0m\u001B[1;33m(\u001B[0m\u001B[1;33m)\u001B[0m\u001B[1;33m\u001B[0m\u001B[1;33m\u001B[0m\u001B[0m\n\u001B[1;32m----> 2\u001B[1;33m \u001B[0mdf_datavis\u001B[0m\u001B[1;33m.\u001B[0m\u001B[0mplot\u001B[0m\u001B[1;33m(\u001B[0m\u001B[0mkind\u001B[0m\u001B[1;33m=\u001B[0m\u001B[1;34m'bar'\u001B[0m\u001B[1;33m,\u001B[0m \u001B[0mx\u001B[0m\u001B[1;33m=\u001B[0m\u001B[1;34m'month'\u001B[0m\u001B[1;33m,\u001B[0m \u001B[0my\u001B[0m\u001B[1;33m=\u001B[0m\u001B[1;33m[\u001B[0m\u001B[1;34m\"incid_hosp\"\u001B[0m\u001B[1;33m,\u001B[0m \u001B[1;34m\"incid_rea\"\u001B[0m\u001B[1;33m,\u001B[0m \u001B[1;34m\"incid_dc\"\u001B[0m\u001B[1;33m,\u001B[0m \u001B[1;34m\"nb_societe_radie\"\u001B[0m\u001B[1;33m]\u001B[0m\u001B[1;33m)\u001B[0m\u001B[1;33m\u001B[0m\u001B[1;33m\u001B[0m\u001B[0m\n\u001B[0m\u001B[0;32m      3\u001B[0m \u001B[0mplt\u001B[0m\u001B[1;33m.\u001B[0m\u001B[0mshow\u001B[0m\u001B[1;33m(\u001B[0m\u001B[1;33m)\u001B[0m\u001B[1;33m\u001B[0m\u001B[1;33m\u001B[0m\u001B[0m\n\u001B[0;32m      4\u001B[0m \u001B[1;33m\u001B[0m\u001B[0m\n",
      "\u001B[1;32mY:\\MinicondaFinal\\lib\\site-packages\\pandas\\plotting\\_core.py\u001B[0m in \u001B[0;36m__call__\u001B[1;34m(self, *args, **kwargs)\u001B[0m\n\u001B[0;32m    953\u001B[0m                     \u001B[0mdata\u001B[0m\u001B[1;33m.\u001B[0m\u001B[0mcolumns\u001B[0m \u001B[1;33m=\u001B[0m \u001B[0mlabel_name\u001B[0m\u001B[1;33m\u001B[0m\u001B[1;33m\u001B[0m\u001B[0m\n\u001B[0;32m    954\u001B[0m \u001B[1;33m\u001B[0m\u001B[0m\n\u001B[1;32m--> 955\u001B[1;33m         \u001B[1;32mreturn\u001B[0m \u001B[0mplot_backend\u001B[0m\u001B[1;33m.\u001B[0m\u001B[0mplot\u001B[0m\u001B[1;33m(\u001B[0m\u001B[0mdata\u001B[0m\u001B[1;33m,\u001B[0m \u001B[0mkind\u001B[0m\u001B[1;33m=\u001B[0m\u001B[0mkind\u001B[0m\u001B[1;33m,\u001B[0m \u001B[1;33m**\u001B[0m\u001B[0mkwargs\u001B[0m\u001B[1;33m)\u001B[0m\u001B[1;33m\u001B[0m\u001B[1;33m\u001B[0m\u001B[0m\n\u001B[0m\u001B[0;32m    956\u001B[0m \u001B[1;33m\u001B[0m\u001B[0m\n\u001B[0;32m    957\u001B[0m     \u001B[0m__call__\u001B[0m\u001B[1;33m.\u001B[0m\u001B[0m__doc__\u001B[0m \u001B[1;33m=\u001B[0m \u001B[0m__doc__\u001B[0m\u001B[1;33m\u001B[0m\u001B[1;33m\u001B[0m\u001B[0m\n",
      "\u001B[1;32mY:\\MinicondaFinal\\lib\\site-packages\\pandas\\plotting\\_matplotlib\\__init__.py\u001B[0m in \u001B[0;36mplot\u001B[1;34m(data, kind, **kwargs)\u001B[0m\n\u001B[0;32m     59\u001B[0m             \u001B[0mkwargs\u001B[0m\u001B[1;33m[\u001B[0m\u001B[1;34m\"ax\"\u001B[0m\u001B[1;33m]\u001B[0m \u001B[1;33m=\u001B[0m \u001B[0mgetattr\u001B[0m\u001B[1;33m(\u001B[0m\u001B[0max\u001B[0m\u001B[1;33m,\u001B[0m \u001B[1;34m\"left_ax\"\u001B[0m\u001B[1;33m,\u001B[0m \u001B[0max\u001B[0m\u001B[1;33m)\u001B[0m\u001B[1;33m\u001B[0m\u001B[1;33m\u001B[0m\u001B[0m\n\u001B[0;32m     60\u001B[0m     \u001B[0mplot_obj\u001B[0m \u001B[1;33m=\u001B[0m \u001B[0mPLOT_CLASSES\u001B[0m\u001B[1;33m[\u001B[0m\u001B[0mkind\u001B[0m\u001B[1;33m]\u001B[0m\u001B[1;33m(\u001B[0m\u001B[0mdata\u001B[0m\u001B[1;33m,\u001B[0m \u001B[1;33m**\u001B[0m\u001B[0mkwargs\u001B[0m\u001B[1;33m)\u001B[0m\u001B[1;33m\u001B[0m\u001B[1;33m\u001B[0m\u001B[0m\n\u001B[1;32m---> 61\u001B[1;33m     \u001B[0mplot_obj\u001B[0m\u001B[1;33m.\u001B[0m\u001B[0mgenerate\u001B[0m\u001B[1;33m(\u001B[0m\u001B[1;33m)\u001B[0m\u001B[1;33m\u001B[0m\u001B[1;33m\u001B[0m\u001B[0m\n\u001B[0m\u001B[0;32m     62\u001B[0m     \u001B[0mplot_obj\u001B[0m\u001B[1;33m.\u001B[0m\u001B[0mdraw\u001B[0m\u001B[1;33m(\u001B[0m\u001B[1;33m)\u001B[0m\u001B[1;33m\u001B[0m\u001B[1;33m\u001B[0m\u001B[0m\n\u001B[0;32m     63\u001B[0m     \u001B[1;32mreturn\u001B[0m \u001B[0mplot_obj\u001B[0m\u001B[1;33m.\u001B[0m\u001B[0mresult\u001B[0m\u001B[1;33m\u001B[0m\u001B[1;33m\u001B[0m\u001B[0m\n",
      "\u001B[1;32mY:\\MinicondaFinal\\lib\\site-packages\\pandas\\plotting\\_matplotlib\\core.py\u001B[0m in \u001B[0;36mgenerate\u001B[1;34m(self)\u001B[0m\n\u001B[0;32m    285\u001B[0m         \u001B[1;32mfor\u001B[0m \u001B[0max\u001B[0m \u001B[1;32min\u001B[0m \u001B[0mself\u001B[0m\u001B[1;33m.\u001B[0m\u001B[0maxes\u001B[0m\u001B[1;33m:\u001B[0m\u001B[1;33m\u001B[0m\u001B[1;33m\u001B[0m\u001B[0m\n\u001B[0;32m    286\u001B[0m             \u001B[0mself\u001B[0m\u001B[1;33m.\u001B[0m\u001B[0m_post_plot_logic_common\u001B[0m\u001B[1;33m(\u001B[0m\u001B[0max\u001B[0m\u001B[1;33m,\u001B[0m \u001B[0mself\u001B[0m\u001B[1;33m.\u001B[0m\u001B[0mdata\u001B[0m\u001B[1;33m)\u001B[0m\u001B[1;33m\u001B[0m\u001B[1;33m\u001B[0m\u001B[0m\n\u001B[1;32m--> 287\u001B[1;33m             \u001B[0mself\u001B[0m\u001B[1;33m.\u001B[0m\u001B[0m_post_plot_logic\u001B[0m\u001B[1;33m(\u001B[0m\u001B[0max\u001B[0m\u001B[1;33m,\u001B[0m \u001B[0mself\u001B[0m\u001B[1;33m.\u001B[0m\u001B[0mdata\u001B[0m\u001B[1;33m)\u001B[0m\u001B[1;33m\u001B[0m\u001B[1;33m\u001B[0m\u001B[0m\n\u001B[0m\u001B[0;32m    288\u001B[0m \u001B[1;33m\u001B[0m\u001B[0m\n\u001B[0;32m    289\u001B[0m     \u001B[1;32mdef\u001B[0m \u001B[0m_args_adjust\u001B[0m\u001B[1;33m(\u001B[0m\u001B[0mself\u001B[0m\u001B[1;33m)\u001B[0m\u001B[1;33m:\u001B[0m\u001B[1;33m\u001B[0m\u001B[1;33m\u001B[0m\u001B[0m\n",
      "\u001B[1;32mY:\\MinicondaFinal\\lib\\site-packages\\pandas\\plotting\\_matplotlib\\core.py\u001B[0m in \u001B[0;36m_post_plot_logic\u001B[1;34m(self, ax, data)\u001B[0m\n\u001B[0;32m   1492\u001B[0m         \u001B[0mname\u001B[0m \u001B[1;33m=\u001B[0m \u001B[0mself\u001B[0m\u001B[1;33m.\u001B[0m\u001B[0m_get_index_name\u001B[0m\u001B[1;33m(\u001B[0m\u001B[1;33m)\u001B[0m\u001B[1;33m\u001B[0m\u001B[1;33m\u001B[0m\u001B[0m\n\u001B[0;32m   1493\u001B[0m \u001B[1;33m\u001B[0m\u001B[0m\n\u001B[1;32m-> 1494\u001B[1;33m         \u001B[0ms_edge\u001B[0m \u001B[1;33m=\u001B[0m \u001B[0mself\u001B[0m\u001B[1;33m.\u001B[0m\u001B[0max_pos\u001B[0m\u001B[1;33m[\u001B[0m\u001B[1;36m0\u001B[0m\u001B[1;33m]\u001B[0m \u001B[1;33m-\u001B[0m \u001B[1;36m0.25\u001B[0m \u001B[1;33m+\u001B[0m \u001B[0mself\u001B[0m\u001B[1;33m.\u001B[0m\u001B[0mlim_offset\u001B[0m\u001B[1;33m\u001B[0m\u001B[1;33m\u001B[0m\u001B[0m\n\u001B[0m\u001B[0;32m   1495\u001B[0m         \u001B[0me_edge\u001B[0m \u001B[1;33m=\u001B[0m \u001B[0mself\u001B[0m\u001B[1;33m.\u001B[0m\u001B[0max_pos\u001B[0m\u001B[1;33m[\u001B[0m\u001B[1;33m-\u001B[0m\u001B[1;36m1\u001B[0m\u001B[1;33m]\u001B[0m \u001B[1;33m+\u001B[0m \u001B[1;36m0.25\u001B[0m \u001B[1;33m+\u001B[0m \u001B[0mself\u001B[0m\u001B[1;33m.\u001B[0m\u001B[0mbar_width\u001B[0m \u001B[1;33m+\u001B[0m \u001B[0mself\u001B[0m\u001B[1;33m.\u001B[0m\u001B[0mlim_offset\u001B[0m\u001B[1;33m\u001B[0m\u001B[1;33m\u001B[0m\u001B[0m\n\u001B[0;32m   1496\u001B[0m \u001B[1;33m\u001B[0m\u001B[0m\n",
      "\u001B[1;31mIndexError\u001B[0m: index 0 is out of bounds for axis 0 with size 0"
     ]
    },
    {
     "data": {
      "image/png": "[encoded data removed]",
      "text/plain": [
       "<Figure size 432x288 with 1 Axes>"
      ]
     },
     "metadata": {
      "needs_background": "light"
     },
     "output_type": "display_data"
    }
   ],
   "source": [
    "df_datavis = df_groupby_par_mois_societe_covid.toPandas()\n",
    "df_datavis.plot(kind='bar', x='month', y=[\"incid_hosp\", \"incid_rea\", \"incid_dc\", \"nb_societe_radie\"])\n",
    "plt.show()"
   ]
  },
  {
   "cell_type": "markdown",
   "metadata": {},
   "source": [
    "## Conclusion\n",
    "\n",
    "Pour conclure, nous pouvons constaté avec ce graphique  que le covid a eu un impacte sur les dsociete enf rance en 2020.\n",
    "\n",
    "Nous voyons ici que l'impacte est effectif 2 mois apres les piques\n",
    "\n",
    "Par exemple en mars/ avril il y a une augmentation d'hospitalisation ce qui est répercuter 2 mois apres avec l'augmentation du nombre de societe radié.\n",
    "\n",
    "**OUI** le covid a eu un impacte sur les societe en france"
   ]
  }
 ],
 "metadata": {
  "kernelspec": {
   "display_name": "Python 3",
   "language": "python",
   "name": "python3"
  },
  "language_info": {
   "codemirror_mode": {
    "name": "ipython",
    "version": 3
   },
   "file_extension": ".py",
   "mimetype": "text/x-python",
   "name": "python",
   "nbconvert_exporter": "python",
   "pygments_lexer": "ipython3",
   "version": "3.7.6"
  }
 },
 "nbformat": 4,
 "nbformat_minor": 4
}